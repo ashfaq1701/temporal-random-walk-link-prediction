{
 "cells": [
  {
   "metadata": {
    "jupyter": {
     "is_executing": true
    },
    "ExecuteTime": {
     "start_time": "2025-07-05T11:13:41.844129Z"
    }
   },
   "cell_type": "code",
   "source": [
    "from src.utils import sample_negative_dataset\n",
    "\n",
    "dataset, negative_edges = sample_negative_dataset(\n",
    "    'tgbl-review',\n",
    "    'negative_edges/negative_edges_tgbl_review.pickle'\n",
    ")"
   ],
   "id": "97a2dac1a79f0f17",
   "outputs": [
    {
     "name": "stdout",
     "output_type": "stream",
     "text": [
      "Dataset tgbl-review version 2 not found.\n",
      "Please download the latest version of the dataset.\n",
      "\u001B[93mDownload started, this might take a while . . . \u001B[0m\n",
      "Dataset title: tgbl-review\n",
      "\u001B[92mDownload completed \u001B[0m\n",
      "Dataset directory is  /Users/ashfaqsalehin/PycharmProjects/temporal-random-walk-link-prediction/.venv/lib/python3.10/site-packages/tgb/datasets/tgbl_review\n",
      "file not processed, generating processed file\n",
      "number of lines counted 4873540\n",
      "numpy allocated\n"
     ]
    },
    {
     "name": "stderr",
     "output_type": "stream",
     "text": [
      "4873541it [00:07, 670916.53it/s]\n"
     ]
    }
   ],
   "execution_count": null
  },
  {
   "metadata": {},
   "cell_type": "code",
   "outputs": [],
   "execution_count": null,
   "source": "import pickle",
   "id": "d0397e2b5ea879f"
  }
 ],
 "metadata": {
  "kernelspec": {
   "display_name": "Python 3",
   "language": "python",
   "name": "python3"
  },
  "language_info": {
   "codemirror_mode": {
    "name": "ipython",
    "version": 2
   },
   "file_extension": ".py",
   "mimetype": "text/x-python",
   "name": "python",
   "nbconvert_exporter": "python",
   "pygments_lexer": "ipython2",
   "version": "2.7.6"
  }
 },
 "nbformat": 4,
 "nbformat_minor": 5
}
