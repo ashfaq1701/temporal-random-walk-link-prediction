{
 "cells": [
  {
   "cell_type": "code",
   "id": "initial_id",
   "metadata": {
    "collapsed": true,
    "ExecuteTime": {
     "end_time": "2025-07-05T00:10:53.803189Z",
     "start_time": "2025-07-05T00:10:33.407932Z"
    }
   },
   "source": [
    "import os\n",
    "from tgb.linkproppred.dataset import LinkPropPredDataset\n",
    "\n",
    "dataset = LinkPropPredDataset(\n",
    "    name='tgbl-coin',\n",
    "    root=os.path.join(os.getcwd(), \"datasets\"),\n",
    "    preprocess=True\n",
    ")\n",
    "dataset.load_val_ns()\n",
    "dataset.load_test_ns()\n",
    "\n",
    "full_data = dataset.full_data\n",
    "\n",
    "train_sources = full_data['sources'][dataset.train_mask]\n",
    "train_targets = full_data['destinations'][dataset.train_mask]\n",
    "train_timestamps = full_data['timestamps'][dataset.train_mask]"
   ],
   "outputs": [
    {
     "name": "stdout",
     "output_type": "stream",
     "text": [
      "raw file found, skipping download\n",
      "Dataset directory is  /Users/ashfaqsalehin/PycharmProjects/temporal-random-walk-link-prediction/.venv/lib/python3.10/site-packages/tgb//Users/ashfaqsalehin/PycharmProjects/temporal-random-walk-link-prediction/datasets/tgbl_coin\n",
      "loading processed file\n"
     ]
    }
   ],
   "execution_count": 1
  },
  {
   "metadata": {
    "jupyter": {
     "is_executing": true
    },
    "ExecuteTime": {
     "start_time": "2025-07-05T00:10:53.815816Z"
    }
   },
   "cell_type": "code",
   "source": [
    "from negative_edge_sampler import collect_all_negatives_by_timestamp\n",
    "\n",
    "negative_sources, negative_targets = collect_all_negatives_by_timestamp(\n",
    "    train_sources,\n",
    "    train_targets,\n",
    "    train_timestamps,\n",
    "    is_directed=True,\n",
    "    num_negatives_per_positive=10,\n",
    "    historical_negative_percentage=0.5\n",
    ")"
   ],
   "id": "94c5fc8772b104a",
   "outputs": [],
   "execution_count": null
  },
  {
   "metadata": {},
   "cell_type": "code",
   "outputs": [],
   "execution_count": null,
   "source": "",
   "id": "97a2dac1a79f0f17"
  }
 ],
 "metadata": {
  "kernelspec": {
   "display_name": "Python 3",
   "language": "python",
   "name": "python3"
  },
  "language_info": {
   "codemirror_mode": {
    "name": "ipython",
    "version": 2
   },
   "file_extension": ".py",
   "mimetype": "text/x-python",
   "name": "python",
   "nbconvert_exporter": "python",
   "pygments_lexer": "ipython2",
   "version": "2.7.6"
  }
 },
 "nbformat": 4,
 "nbformat_minor": 5
}
