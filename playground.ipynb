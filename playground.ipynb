{
 "cells": [
  {
   "cell_type": "code",
   "id": "initial_id",
   "metadata": {
    "collapsed": true,
    "ExecuteTime": {
     "end_time": "2025-07-03T15:48:41.758373Z",
     "start_time": "2025-07-03T15:48:22.269203Z"
    }
   },
   "source": [
    "from tgb.linkproppred.dataset import LinkPropPredDataset\n",
    "\n",
    "dataset = LinkPropPredDataset(name='tgbl-coin', root=\"datasets\", preprocess=True)\n",
    "dataset.load_val_ns()\n",
    "dataset.load_test_ns()\n",
    "\n",
    "full_data = dataset.full_data\n",
    "max_node_id = max(full_data['sources'].max(), full_data['targets'].max())\n",
    "\n",
    "train_sources = full_data['sources'][dataset.train_mask]\n",
    "train_targets = full_data['destinations'][dataset.train_mask]\n",
    "train_timestamps = full_data['timestamps'][dataset.train_mask]"
   ],
   "outputs": [
    {
     "name": "stdout",
     "output_type": "stream",
     "text": [
      "raw file found, skipping download\n",
      "Dataset directory is  /Users/ashfaqsalehin/PycharmProjects/temporal-random-walk-link-prediction/.venv/lib/python3.10/site-packages/tgb/datasets/tgbl_coin\n",
      "loading processed file\n"
     ]
    }
   ],
   "execution_count": 1
  },
  {
   "metadata": {
    "jupyter": {
     "is_executing": true
    },
    "ExecuteTime": {
     "end_time": "2025-07-03T16:17:22.546430Z",
     "start_time": "2025-07-03T15:48:41.765661Z"
    }
   },
   "cell_type": "code",
   "source": [
    "from src.negative_sampler import TemporalNegativeSampler\n",
    "\n",
    "neg_sampler ="
   ],
   "id": "a0a1315843341927",
   "outputs": [],
   "execution_count": null
  },
  {
   "metadata": {},
   "cell_type": "code",
   "outputs": [],
   "execution_count": null,
   "source": "",
   "id": "94c5fc8772b104a"
  }
 ],
 "metadata": {
  "kernelspec": {
   "display_name": "Python 3",
   "language": "python",
   "name": "python3"
  },
  "language_info": {
   "codemirror_mode": {
    "name": "ipython",
    "version": 2
   },
   "file_extension": ".py",
   "mimetype": "text/x-python",
   "name": "python",
   "nbconvert_exporter": "python",
   "pygments_lexer": "ipython2",
   "version": "2.7.6"
  }
 },
 "nbformat": 4,
 "nbformat_minor": 5
}
