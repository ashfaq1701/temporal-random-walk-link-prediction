{
 "cells": [
  {
   "cell_type": "code",
   "id": "initial_id",
   "metadata": {
    "collapsed": true,
    "ExecuteTime": {
     "end_time": "2025-07-04T17:47:38.272919Z",
     "start_time": "2025-07-04T17:44:30.552673Z"
    }
   },
   "source": [
    "import os\n",
    "from tgb.linkproppred.dataset import LinkPropPredDataset\n",
    "\n",
    "dataset = LinkPropPredDataset(\n",
    "    name='tgbl-coin',\n",
    "    root=os.path.join(os.getcwd(), \"datasets\"),\n",
    "    preprocess=True\n",
    ")\n",
    "dataset.load_val_ns()\n",
    "dataset.load_test_ns()\n",
    "\n",
    "full_data = dataset.full_data\n",
    "\n",
    "train_sources = full_data['sources'][dataset.train_mask]\n",
    "train_targets = full_data['destinations'][dataset.train_mask]\n",
    "train_timestamps = full_data['timestamps'][dataset.train_mask]"
   ],
   "outputs": [
    {
     "name": "stdout",
     "output_type": "stream",
     "text": [
      "Dataset tgbl-coin version 2 not found.\n",
      "Please download the latest version of the dataset.\n",
      "\u001B[93mDownload started, this might take a while . . . \u001B[0m\n",
      "Dataset title: tgbl-coin\n",
      "\u001B[92mDownload completed \u001B[0m\n",
      "Dataset directory is  /Users/ashfaqsalehin/PycharmProjects/temporal-random-walk-link-prediction/.venv/lib/python3.10/site-packages/tgb//Users/ashfaqsalehin/PycharmProjects/temporal-random-walk-link-prediction/datasets/tgbl_coin\n",
      "file not processed, generating processed file\n",
      "number of lines counted 22809486\n",
      "numpy allocated\n"
     ]
    },
    {
     "name": "stderr",
     "output_type": "stream",
     "text": [
      "22809487it [00:43, 528431.95it/s]\n"
     ]
    }
   ],
   "execution_count": 1
  },
  {
   "metadata": {},
   "cell_type": "code",
   "outputs": [],
   "execution_count": null,
   "source": "",
   "id": "94c5fc8772b104a"
  }
 ],
 "metadata": {
  "kernelspec": {
   "display_name": "Python 3",
   "language": "python",
   "name": "python3"
  },
  "language_info": {
   "codemirror_mode": {
    "name": "ipython",
    "version": 2
   },
   "file_extension": ".py",
   "mimetype": "text/x-python",
   "name": "python",
   "nbconvert_exporter": "python",
   "pygments_lexer": "ipython2",
   "version": "2.7.6"
  }
 },
 "nbformat": 4,
 "nbformat_minor": 5
}
